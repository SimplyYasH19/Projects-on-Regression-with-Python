{
 "cells": [
  {
   "cell_type": "code",
   "execution_count": 1,
   "id": "2ce7d250-9d9d-4d80-a21d-b4b8d6fd2bee",
   "metadata": {},
   "outputs": [],
   "source": [
    "\n",
    "import torch\n",
    "import torch.nn as nn\n",
    "import torch.nn.functional as F\n",
    "from torch.utils.data import DataLoader, TensorDataset, random_split\n",
    "\n",
    "import pandas as pd\n",
    "from sklearn.preprocessing import StandardScaler\n",
    "from tabulate import tabulate   # for clean tables"
   ]
  },
  {
   "cell_type": "code",
   "execution_count": 2,
   "id": "f5e139eb-c1d2-4b41-9ab3-ef4c26c46334",
   "metadata": {},
   "outputs": [
    {
     "name": "stdout",
     "output_type": "stream",
     "text": [
      "Raw shape: (301, 9)\n",
      "  Car_Name  Year  Selling_Price  Present_Price  Kms_Driven Fuel_Type  \\\n",
      "0     ritz  2014           3.35           5.59       27000    Petrol   \n",
      "1      sx4  2013           4.75           9.54       43000    Diesel   \n",
      "2     ciaz  2017           7.25           9.85        6900    Petrol   \n",
      "3  wagon r  2011           2.85           4.15        5200    Petrol   \n",
      "4    swift  2014           4.60           6.87       42450    Diesel   \n",
      "\n",
      "  Seller_Type Transmission  Owner  \n",
      "0      Dealer       Manual      0  \n",
      "1      Dealer       Manual      0  \n",
      "2      Dealer       Manual      0  \n",
      "3      Dealer       Manual      0  \n",
      "4      Dealer       Manual      0  \n"
     ]
    }
   ],
   "source": [
    "# Load Data\n",
    "\n",
    "DATA_FILENAME = \"car_data.csv\"\n",
    "df_raw = pd.read_csv(DATA_FILENAME)\n",
    "\n",
    "print(\"Raw shape:\", df_raw.shape)\n",
    "print(df_raw.head())\n"
   ]
  },
  {
   "cell_type": "code",
   "execution_count": 3,
   "id": "de9f5207-ee10-42b5-81f0-52eb98fdfe26",
   "metadata": {},
   "outputs": [
    {
     "name": "stdout",
     "output_type": "stream",
     "text": [
      "After preprocessing: (301, 9)\n"
     ]
    }
   ],
   "source": [
    "# Preprocessing\n",
    "\n",
    "def preprocess_dataset(df):\n",
    "    df = df.copy()\n",
    "\n",
    "    # Drop Car_Name (not useful for regression directly)\n",
    "    if \"Car_Name\" in df.columns:\n",
    "        df = df.drop(columns=[\"Car_Name\"])\n",
    "    \n",
    "    # Separate numeric + categorical\n",
    "    numeric_cols = [\"Year\", \"Present_Price\", \"Kms_Driven\", \"Owner\"]\n",
    "    categorical_cols = [\"Fuel_Type\", \"Seller_Type\", \"Transmission\"]\n",
    "    target_col = [\"Selling_Price\"]\n",
    "\n",
    "    # One-hot encode categorical\n",
    "    df = pd.get_dummies(df, columns=categorical_cols, drop_first=True)\n",
    "\n",
    "    # Scale numeric columns\n",
    "    scaler = StandardScaler()\n",
    "    df[numeric_cols] = scaler.fit_transform(df[numeric_cols])\n",
    "\n",
    "    return df, numeric_cols, target_col, scaler\n",
    "\n",
    "\n",
    "df, numeric_cols, target_col, scaler = preprocess_dataset(df_raw)\n",
    "print(\"After preprocessing:\", df.shape)\n",
    "\n"
   ]
  },
  {
   "cell_type": "code",
   "execution_count": 4,
   "id": "69ac8c3f-b7ef-41ca-9f9c-060790989616",
   "metadata": {},
   "outputs": [],
   "source": [
    "# 4. Convert to Tensors (Fixed)\n",
    "# =============================\n",
    "X = df.drop(columns=target_col)\n",
    "y = df[target_col]\n",
    "\n",
    "# Ensure all columns are numeric\n",
    "X = X.apply(pd.to_numeric, errors=\"coerce\")\n",
    "y = y.apply(pd.to_numeric, errors=\"coerce\")\n",
    "\n",
    "# Replace NaNs if any (just in case)\n",
    "X = X.fillna(0)\n",
    "y = y.fillna(0)\n",
    "\n",
    "# Convert to numpy float arrays\n",
    "inputs = torch.tensor(X.to_numpy(dtype=\"float32\"))\n",
    "targets = torch.tensor(y.to_numpy(dtype=\"float32\"))\n",
    "\n",
    "dataset = TensorDataset(inputs, targets)\n",
    "train_ds, val_ds = random_split(dataset, [int(0.8*len(dataset)), len(dataset) - int(0.8*len(dataset))])\n",
    "train_loader = DataLoader(train_ds, batch_size=64, shuffle=True)\n",
    "val_loader = DataLoader(val_ds, batch_size=64)\n"
   ]
  },
  {
   "cell_type": "code",
   "execution_count": 5,
   "id": "dbfa29aa-09c1-45ab-b62b-e4230a16a6a1",
   "metadata": {},
   "outputs": [],
   "source": [
    "# 5. Define Model\n",
    "# ===============\n",
    "class CarPriceModel(nn.Module):\n",
    "    def __init__(self, input_size, output_size=1):\n",
    "        super().__init__()\n",
    "        self.net = nn.Sequential(\n",
    "            nn.Linear(input_size, 64),\n",
    "            nn.ReLU(),\n",
    "            nn.Linear(64, 32),\n",
    "            nn.ReLU(),\n",
    "            nn.Linear(32, output_size)\n",
    "        )\n",
    "    def forward(self, xb):\n",
    "        return self.net(xb)\n",
    "\n"
   ]
  },
  {
   "cell_type": "code",
   "execution_count": 6,
   "id": "3476b058-7987-4a74-93c7-60b0d5616cfd",
   "metadata": {},
   "outputs": [],
   "source": [
    "# 6. Training Utilities\n",
    "# =====================\n",
    "def evaluate(model, val_loader, loss_fn):\n",
    "    model.eval()\n",
    "    with torch.no_grad():\n",
    "        losses = [loss_fn(model(xb), yb) for xb, yb in val_loader]\n",
    "    return torch.stack(losses).mean().item()\n",
    "\n",
    "\n",
    "def fit(epochs, model, train_loader, val_loader, lr=1e-3):\n",
    "    opt = torch.optim.Adam(model.parameters(), lr=lr)\n",
    "    loss_fn = nn.MSELoss()\n",
    "    history = []\n",
    "\n",
    "    for epoch in range(epochs):\n",
    "        model.train()\n",
    "        for xb, yb in train_loader:\n",
    "            pred = model(xb)\n",
    "            loss = loss_fn(pred, yb)\n",
    "            loss.backward()\n",
    "            opt.step()\n",
    "            opt.zero_grad()\n",
    "\n",
    "        val_loss = evaluate(model, val_loader, loss_fn)\n",
    "        history.append(val_loss)\n",
    "        if (epoch+1) % 10 == 0:\n",
    "            print(f\"Epoch {epoch+1}, Val Loss: {val_loss:.4f}\")\n",
    "    return history\n"
   ]
  },
  {
   "cell_type": "code",
   "execution_count": 7,
   "id": "561cd937-2afd-4ddc-a842-7912c6cfea59",
   "metadata": {},
   "outputs": [
    {
     "name": "stdout",
     "output_type": "stream",
     "text": [
      "Epoch 10, Val Loss: 43.3669\n",
      "Epoch 20, Val Loss: 10.6137\n",
      "Epoch 30, Val Loss: 3.1057\n",
      "Epoch 40, Val Loss: 6.5685\n",
      "Epoch 50, Val Loss: 7.4249\n",
      "Epoch 60, Val Loss: 7.4971\n",
      "Epoch 70, Val Loss: 7.1453\n",
      "Epoch 80, Val Loss: 6.6575\n",
      "Epoch 90, Val Loss: 6.3768\n",
      "Epoch 100, Val Loss: 5.9752\n"
     ]
    }
   ],
   "source": [
    "# 7. Train the Model\n",
    "# ==================\n",
    "model = CarPriceModel(input_size=X.shape[1])\n",
    "history = fit(100, model, train_loader, val_loader, lr=1e-3)\n"
   ]
  },
  {
   "cell_type": "code",
   "execution_count": 8,
   "id": "7e38a24a-88bf-4096-8f78-0b651b1af9d3",
   "metadata": {},
   "outputs": [],
   "source": [
    "# 8. User Input + Prediction\n",
    "# ==========================\n",
    "def preprocess_user_input(car_name, year, present_price, kms_driven, fuel_type, transmission, owner):\n",
    "    user_df = pd.DataFrame({\n",
    "        \"Year\": [year],\n",
    "        \"Present_Price\": [present_price],\n",
    "        \"Kms_Driven\": [kms_driven],\n",
    "        \"Owner\": [owner],\n",
    "        \"Fuel_Type\": [fuel_type],\n",
    "        \"Seller_Type\": [\"Dealer\"],   # assume Dealer\n",
    "        \"Transmission\": [transmission]\n",
    "    })\n",
    "\n",
    "    # One-hot encode\n",
    "    user_df = pd.get_dummies(user_df, drop_first=True)\n",
    "\n",
    "    # Add missing cols\n",
    "    for col in X.columns:\n",
    "        if col not in user_df.columns:\n",
    "            user_df[col] = 0\n",
    "\n",
    "    # Reorder\n",
    "    user_df = user_df[X.columns]\n",
    "\n",
    "    # Scale numeric\n",
    "    user_df[numeric_cols] = scaler.transform(user_df[numeric_cols])\n",
    "\n",
    "    return torch.tensor(user_df.to_numpy(dtype=float), dtype=torch.float32)\n",
    "\n",
    "\n",
    "def predict_and_display(car_name, year, present_price, kms_driven, fuel_type, transmission, owner, model):\n",
    "    user_tensor = preprocess_user_input(car_name, year, present_price, kms_driven, fuel_type, transmission, owner)\n",
    "    pred = model(user_tensor).item()\n",
    "\n",
    "    table = [[car_name, year, present_price, kms_driven, fuel_type, transmission, owner, round(pred, 2)]]\n",
    "    headers = [\"Car Name\", \"Year\", \"Present Price (Lakhs)\", \"Kms Driven\", \"Fuel Type\", \"Transmission\", \"Owner\", \"Predicted Price (Lakhs)\"]\n",
    "\n",
    "    print(\"\\n=== Prediction Result ===\")\n",
    "    print(tabulate(table, headers=headers, tablefmt=\"grid\"))\n",
    "\n"
   ]
  },
  {
   "cell_type": "code",
   "execution_count": null,
   "id": "080812d9-d10a-42b9-bea6-0ff78c7f26be",
   "metadata": {},
   "outputs": [],
   "source": [
    "# 9. Example Run\n",
    "# ==============\n",
    "car_name = input(\"Enter Car Name: \")\n",
    "year = int(input(\"Enter Year: \"))\n",
    "present_price = float(input(\"Enter Present Price (Lakhs): \"))\n",
    "kms_driven = int(input(\"Enter Kms Driven: \"))\n",
    "fuel_type = input(\"Enter Fuel Type (Petrol/Diesel/CNG): \")\n",
    "transmission = input(\"Enter Transmission (Manual/Automatic): \")\n",
    "owner = int(input(\"Enter Number of Previous Owners: \"))\n",
    "\n",
    "predict_and_display(car_name, year, present_price, kms_driven, fuel_type, transmission, owner, model)\n"
   ]
  },
  {
   "cell_type": "code",
   "execution_count": null,
   "id": "0937a8dc-8a72-4111-a293-a7eee526fc72",
   "metadata": {},
   "outputs": [],
   "source": []
  }
 ],
 "metadata": {
  "kernelspec": {
   "display_name": "Python 3 (ipykernel)",
   "language": "python",
   "name": "python3"
  },
  "language_info": {
   "codemirror_mode": {
    "name": "ipython",
    "version": 3
   },
   "file_extension": ".py",
   "mimetype": "text/x-python",
   "name": "python",
   "nbconvert_exporter": "python",
   "pygments_lexer": "ipython3",
   "version": "3.11.8"
  }
 },
 "nbformat": 4,
 "nbformat_minor": 5
}
